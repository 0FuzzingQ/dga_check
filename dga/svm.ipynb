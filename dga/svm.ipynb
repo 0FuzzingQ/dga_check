{
 "cells": [
  {
   "cell_type": "markdown",
   "metadata": {
    "slideshow": {
     "slide_type": "slide"
    }
   },
   "source": [
    "想要了解该内容的看客们一定对DGA相关内容有一定了解了，这里就不再赘述，只是做简单说明。\n",
    "\n",
    "僵尸网络中用来控制主机，负责处理信息，下发任务的中心机器，也称C&C服务器（control & command）。一个成熟的僵尸网络往往具有多个C&C服务 器。\n",
    "对于安全人员来说，查杀了僵尸网络的C&c服务器也就等于毁灭而这个僵尸网络，那么作为安全对抗，僵尸网络的缔造者也会想尽办法对其进行隐藏和保护其主控端。\n",
    "\n",
    "那么对于固定的C&C服务器域名，安全人员一般来说很容易对其进行查杀，因此，基于DGA方法僵尸网络也就产生了，DGA全程随机域名生成算法，是指使用主控端和被控端协商好的一种基于随机算法的域名生成协议，简单来说就是生成一个随机字符串来作为域名并进行注册，将其作为C&C服务器的域名并不定时经常性更换。由于具备强随机性，短时效性，通过DGA生成的域名往往在查杀上更具备难度。\n",
    "\n",
    "使用机器学习的方法来对DGA域名进行查杀，业界已有实现；笔者首次接触实在2016年wooyun年会上，phunter神做的一篇报告，在报告中他详细介绍了包括二层，三层flux方法等在内的诸多高级生成DGA方法，并从数学上介绍了一些生成算法以及机器学习的检测方法.本文是参考https://github.com/phunterlau/dga_classifier 的一个简单实现版本，本文全部代码可以在 笔者GitHub项目中查看https://github.com/0FuzzingQ/dga_check\n"
   ]
  },
  {
   "cell_type": "code",
   "execution_count": 1,
   "metadata": {},
   "outputs": [
    {
     "name": "stderr",
     "output_type": "stream",
     "text": [
      "C:\\Users\\aldin\\AppData\\Roaming\\Python\\Python36\\site-packages\\gensim\\utils.py:1212: UserWarning: detected Windows; aliasing chunkize to chunkize_serial\n",
      "  warnings.warn(\"detected Windows; aliasing chunkize to chunkize_serial\")\n",
      "c:\\program files\\python36\\lib\\site-packages\\sklearn\\cross_validation.py:41: DeprecationWarning: This module was deprecated in version 0.18 in favor of the model_selection module into which all the refactored classes and functions are moved. Also note that the interface of the new CV iterators are different from that of this module. This module will be removed in 0.20.\n",
      "  \"This module will be removed in 0.20.\", DeprecationWarning)\n"
     ]
    }
   ],
   "source": [
    "import sys\n",
    "import os\n",
    "import numpy as np\n",
    "import pandas as pd\n",
    "import matplotlib.pyplot as plt\n",
    "import sklearn\n",
    "import argparse\n",
    "from load import load_data\n",
    "from common import getshan,getyuanyin,getroot,getrootclass,getlen,getw2v\n",
    "from sklearn.feature_extraction.text import CountVectorizer\n",
    "import re\n",
    "from sklearn import preprocessing\n",
    "from sklearn.utils import shuffle\n",
    "from sklearn import cross_validation\n",
    "from sklearn.svm import SVC\n",
    "import seaborn as sns\n",
    "plt.style.use('seaborn')\n",
    "sns.set(font_scale=2)\n",
    "pd.set_option('display.max_columns', 500)"
   ]
  },
  {
   "cell_type": "code",
   "execution_count": 2,
   "metadata": {},
   "outputs": [],
   "source": [
    "method = 'train'\n",
    "path = 'train.txt'"
   ]
  },
  {
   "cell_type": "markdown",
   "metadata": {},
   "source": [
    "本次使用训练集位于train.txt中，共包含10w正常url数据以及15w 使用DGA算法生成的域名数据\n",
    "首先载入数据集看一下数据集情况"
   ]
  },
  {
   "cell_type": "code",
   "execution_count": 3,
   "metadata": {},
   "outputs": [],
   "source": [
    "train_data = load_data(path,method)"
   ]
  },
  {
   "cell_type": "code",
   "execution_count": 4,
   "metadata": {},
   "outputs": [
    {
     "name": "stdout",
     "output_type": "stream",
     "text": [
      "<class 'pandas.core.frame.DataFrame'>\n",
      "RangeIndex: 249999 entries, 0 to 249998\n",
      "Data columns (total 2 columns):\n",
      "label     249999 non-null object\n",
      "domain    249999 non-null object\n",
      "dtypes: object(2)\n",
      "memory usage: 3.8+ MB\n"
     ]
    }
   ],
   "source": [
    "train_data.info()"
   ]
  },
  {
   "cell_type": "code",
   "execution_count": 5,
   "metadata": {},
   "outputs": [
    {
     "data": {
      "text/html": [
       "<div>\n",
       "<style scoped>\n",
       "    .dataframe tbody tr th:only-of-type {\n",
       "        vertical-align: middle;\n",
       "    }\n",
       "\n",
       "    .dataframe tbody tr th {\n",
       "        vertical-align: top;\n",
       "    }\n",
       "\n",
       "    .dataframe thead th {\n",
       "        text-align: right;\n",
       "    }\n",
       "</style>\n",
       "<table border=\"1\" class=\"dataframe\">\n",
       "  <thead>\n",
       "    <tr style=\"text-align: right;\">\n",
       "      <th></th>\n",
       "      <th>label</th>\n",
       "      <th>domain</th>\n",
       "    </tr>\n",
       "  </thead>\n",
       "  <tbody>\n",
       "    <tr>\n",
       "      <th>0</th>\n",
       "      <td>0</td>\n",
       "      <td>facebook.com</td>\n",
       "    </tr>\n",
       "    <tr>\n",
       "      <th>1</th>\n",
       "      <td>0</td>\n",
       "      <td>youtube.com</td>\n",
       "    </tr>\n",
       "    <tr>\n",
       "      <th>2</th>\n",
       "      <td>0</td>\n",
       "      <td>yahoo.com</td>\n",
       "    </tr>\n",
       "    <tr>\n",
       "      <th>3</th>\n",
       "      <td>0</td>\n",
       "      <td>baidu.com</td>\n",
       "    </tr>\n",
       "    <tr>\n",
       "      <th>4</th>\n",
       "      <td>0</td>\n",
       "      <td>wikipedia.org</td>\n",
       "    </tr>\n",
       "  </tbody>\n",
       "</table>\n",
       "</div>"
      ],
      "text/plain": [
       "  label         domain\n",
       "0     0   facebook.com\n",
       "1     0    youtube.com\n",
       "2     0      yahoo.com\n",
       "3     0      baidu.com\n",
       "4     0  wikipedia.org"
      ]
     },
     "execution_count": 5,
     "metadata": {},
     "output_type": "execute_result"
    }
   ],
   "source": [
    "train_data.head(5)"
   ]
  },
  {
   "cell_type": "code",
   "execution_count": 6,
   "metadata": {},
   "outputs": [
    {
     "data": {
      "text/html": [
       "<div>\n",
       "<style scoped>\n",
       "    .dataframe tbody tr th:only-of-type {\n",
       "        vertical-align: middle;\n",
       "    }\n",
       "\n",
       "    .dataframe tbody tr th {\n",
       "        vertical-align: top;\n",
       "    }\n",
       "\n",
       "    .dataframe thead th {\n",
       "        text-align: right;\n",
       "    }\n",
       "</style>\n",
       "<table border=\"1\" class=\"dataframe\">\n",
       "  <thead>\n",
       "    <tr style=\"text-align: right;\">\n",
       "      <th></th>\n",
       "      <th>label</th>\n",
       "      <th>domain</th>\n",
       "    </tr>\n",
       "  </thead>\n",
       "  <tbody>\n",
       "    <tr>\n",
       "      <th>249994</th>\n",
       "      <td>1</td>\n",
       "      <td>zzznnx.ir</td>\n",
       "    </tr>\n",
       "    <tr>\n",
       "      <th>249995</th>\n",
       "      <td>1</td>\n",
       "      <td>zzztqrq.ht</td>\n",
       "    </tr>\n",
       "    <tr>\n",
       "      <th>249996</th>\n",
       "      <td>1</td>\n",
       "      <td>zzzvr.su</td>\n",
       "    </tr>\n",
       "    <tr>\n",
       "      <th>249997</th>\n",
       "      <td>1</td>\n",
       "      <td>zzzwtef.com.pa</td>\n",
       "    </tr>\n",
       "    <tr>\n",
       "      <th>249998</th>\n",
       "      <td>1</td>\n",
       "      <td>zzzzuvfbt.co.uk</td>\n",
       "    </tr>\n",
       "  </tbody>\n",
       "</table>\n",
       "</div>"
      ],
      "text/plain": [
       "       label           domain\n",
       "249994     1        zzznnx.ir\n",
       "249995     1       zzztqrq.ht\n",
       "249996     1         zzzvr.su\n",
       "249997     1   zzzwtef.com.pa\n",
       "249998     1  zzzzuvfbt.co.uk"
      ]
     },
     "execution_count": 6,
     "metadata": {},
     "output_type": "execute_result"
    }
   ],
   "source": [
    "train_data.tail(5)"
   ]
  },
  {
   "cell_type": "markdown",
   "metadata": {},
   "source": [
    "可以看到正常域名都是大家比较熟悉的那些，Google，youtube等等,恶意域名，感觉就很奇怪，而且...根域名更奇怪，根域名，也许可以看成是一个特征向量也说不定"
   ]
  },
  {
   "cell_type": "markdown",
   "metadata": {},
   "source": [
    "那么就先把根域名尝试作为一个特征吧，探测一下！周所周知，正大光明的网站一般使用正大光明的域名，比如说很常见的如com;cn;org;cc；net等等，因此我们把这个作为一个点来分类；由于是一个简单的项目，我们不是用one-hot编码,频率编码等手段，仅仅依照经验将其分为常见，不常见两个类别\n",
    "\n",
    "注：本文的功能函数代码均位于github中common.py文件中，本notebook仅仅演示主要的机器学习的使用流程和手法\n",
    "\n",
    "以下第一行代码用于获取每一个域名的根域名并加入DataFrame中\n",
    "第二行代码用于分类并将类别信息加入DataFrame中"
   ]
  },
  {
   "cell_type": "code",
   "execution_count": 7,
   "metadata": {},
   "outputs": [],
   "source": [
    "train_data['root'] = train_data['domain'].map(lambda x:getroot(x)).astype(str)\n",
    "train_data['rootclass'] = train_data['root'].map(lambda x:getrootclass(x)).astype(int)"
   ]
  },
  {
   "cell_type": "markdown",
   "metadata": {},
   "source": [
    "再看一下数据情况，会发现咱们原本的DataFrame多了两列信息，就是我们刚才加上去的~"
   ]
  },
  {
   "cell_type": "code",
   "execution_count": 8,
   "metadata": {},
   "outputs": [
    {
     "data": {
      "text/html": [
       "<div>\n",
       "<style scoped>\n",
       "    .dataframe tbody tr th:only-of-type {\n",
       "        vertical-align: middle;\n",
       "    }\n",
       "\n",
       "    .dataframe tbody tr th {\n",
       "        vertical-align: top;\n",
       "    }\n",
       "\n",
       "    .dataframe thead th {\n",
       "        text-align: right;\n",
       "    }\n",
       "</style>\n",
       "<table border=\"1\" class=\"dataframe\">\n",
       "  <thead>\n",
       "    <tr style=\"text-align: right;\">\n",
       "      <th></th>\n",
       "      <th>label</th>\n",
       "      <th>domain</th>\n",
       "      <th>root</th>\n",
       "      <th>rootclass</th>\n",
       "    </tr>\n",
       "  </thead>\n",
       "  <tbody>\n",
       "    <tr>\n",
       "      <th>0</th>\n",
       "      <td>0</td>\n",
       "      <td>facebook.com</td>\n",
       "      <td>com</td>\n",
       "      <td>0</td>\n",
       "    </tr>\n",
       "    <tr>\n",
       "      <th>1</th>\n",
       "      <td>0</td>\n",
       "      <td>youtube.com</td>\n",
       "      <td>com</td>\n",
       "      <td>0</td>\n",
       "    </tr>\n",
       "    <tr>\n",
       "      <th>2</th>\n",
       "      <td>0</td>\n",
       "      <td>yahoo.com</td>\n",
       "      <td>com</td>\n",
       "      <td>0</td>\n",
       "    </tr>\n",
       "    <tr>\n",
       "      <th>3</th>\n",
       "      <td>0</td>\n",
       "      <td>baidu.com</td>\n",
       "      <td>com</td>\n",
       "      <td>0</td>\n",
       "    </tr>\n",
       "    <tr>\n",
       "      <th>4</th>\n",
       "      <td>0</td>\n",
       "      <td>wikipedia.org</td>\n",
       "      <td>org</td>\n",
       "      <td>0</td>\n",
       "    </tr>\n",
       "  </tbody>\n",
       "</table>\n",
       "</div>"
      ],
      "text/plain": [
       "  label         domain root  rootclass\n",
       "0     0   facebook.com  com          0\n",
       "1     0    youtube.com  com          0\n",
       "2     0      yahoo.com  com          0\n",
       "3     0      baidu.com  com          0\n",
       "4     0  wikipedia.org  org          0"
      ]
     },
     "execution_count": 8,
     "metadata": {},
     "output_type": "execute_result"
    }
   ],
   "source": [
    "train_data.head(5)"
   ]
  },
  {
   "cell_type": "code",
   "execution_count": 9,
   "metadata": {},
   "outputs": [
    {
     "data": {
      "text/html": [
       "<div>\n",
       "<style scoped>\n",
       "    .dataframe tbody tr th:only-of-type {\n",
       "        vertical-align: middle;\n",
       "    }\n",
       "\n",
       "    .dataframe tbody tr th {\n",
       "        vertical-align: top;\n",
       "    }\n",
       "\n",
       "    .dataframe thead th {\n",
       "        text-align: right;\n",
       "    }\n",
       "</style>\n",
       "<table border=\"1\" class=\"dataframe\">\n",
       "  <thead>\n",
       "    <tr style=\"text-align: right;\">\n",
       "      <th></th>\n",
       "      <th>label</th>\n",
       "      <th>domain</th>\n",
       "      <th>root</th>\n",
       "      <th>rootclass</th>\n",
       "    </tr>\n",
       "  </thead>\n",
       "  <tbody>\n",
       "    <tr>\n",
       "      <th>249994</th>\n",
       "      <td>1</td>\n",
       "      <td>zzznnx.ir</td>\n",
       "      <td>ir</td>\n",
       "      <td>1</td>\n",
       "    </tr>\n",
       "    <tr>\n",
       "      <th>249995</th>\n",
       "      <td>1</td>\n",
       "      <td>zzztqrq.ht</td>\n",
       "      <td>ht</td>\n",
       "      <td>1</td>\n",
       "    </tr>\n",
       "    <tr>\n",
       "      <th>249996</th>\n",
       "      <td>1</td>\n",
       "      <td>zzzvr.su</td>\n",
       "      <td>su</td>\n",
       "      <td>1</td>\n",
       "    </tr>\n",
       "    <tr>\n",
       "      <th>249997</th>\n",
       "      <td>1</td>\n",
       "      <td>zzzwtef.com.pa</td>\n",
       "      <td>pa</td>\n",
       "      <td>1</td>\n",
       "    </tr>\n",
       "    <tr>\n",
       "      <th>249998</th>\n",
       "      <td>1</td>\n",
       "      <td>zzzzuvfbt.co.uk</td>\n",
       "      <td>uk</td>\n",
       "      <td>1</td>\n",
       "    </tr>\n",
       "  </tbody>\n",
       "</table>\n",
       "</div>"
      ],
      "text/plain": [
       "       label           domain root  rootclass\n",
       "249994     1        zzznnx.ir   ir          1\n",
       "249995     1       zzztqrq.ht   ht          1\n",
       "249996     1         zzzvr.su   su          1\n",
       "249997     1   zzzwtef.com.pa   pa          1\n",
       "249998     1  zzzzuvfbt.co.uk   uk          1"
      ]
     },
     "execution_count": 9,
     "metadata": {},
     "output_type": "execute_result"
    }
   ],
   "source": [
    "train_data.tail(5)"
   ]
  },
  {
   "cell_type": "markdown",
   "metadata": {},
   "source": [
    "有没有发现看上去好像正常域名的rootclass都等于0，不正常的都等于1；\n",
    "感觉好像是的！那么我们来画个图看一看再整个数据集上的分布吧\n",
    "\n",
    "python科学计算可视化神器 matplotlib和seaborn"
   ]
  },
  {
   "cell_type": "code",
   "execution_count": 10,
   "metadata": {},
   "outputs": [],
   "source": [
    "suby = train_data.label.values\n",
    "subx = train_data.rootclass.values"
   ]
  },
  {
   "cell_type": "code",
   "execution_count": 11,
   "metadata": {},
   "outputs": [
    {
     "data": {
      "text/plain": [
       "<matplotlib.axes._subplots.AxesSubplot at 0x2dc542b0cf8>"
      ]
     },
     "execution_count": 11,
     "metadata": {},
     "output_type": "execute_result"
    },
    {
     "data": {
      "image/png": "[encoded data removed]",
      "text/plain": [
       "<Figure size 432x288 with 1 Axes>"
      ]
     },
     "metadata": {
      "needs_background": "light"
     },
     "output_type": "display_data"
    }
   ],
   "source": [
    "sns.countplot(x='rootclass', hue='label',data=train_data)"
   ]
  },
  {
   "cell_type": "markdown",
   "metadata": {},
   "source": [
    "ok 很明显可以看出来数据分布上的差异了，在正常样本上也就是label=0时，常见根域名出现的概率远远大于非正常域名，几乎可以说是忽略不计，而对于不正常域名label=1时，非常见根域名出现的概率大概是正常域名的4-5倍，\n",
    "\n",
    "所以我们完全可以将根域名作为我们模型的一个特征\n",
    "PS：笔者采用的这种方法是较为简陋的一种，更科学地特征工程可以更好的挖掘这一特征"
   ]
  },
  {
   "cell_type": "markdown",
   "metadata": {},
   "source": [
    "接下来挖掘一些其他可能的特征，比如说最简单的，长度？\n",
    "\n",
    "试试看，还是使用一样的思路，将每一条域名的长度计算出来来，作为一列加入到我们的train_data中，并采用可视化的方法来看一看域名的长度是否在不同label上有着不同的分布\n",
    "\n",
    "以下代码用于计算每个域名的长度并返回结果，作为train_data中的一列"
   ]
  },
  {
   "cell_type": "code",
   "execution_count": 12,
   "metadata": {},
   "outputs": [],
   "source": [
    "train_data['len'] = train_data['domain'].map(lambda x:getlen(x)).astype(int)"
   ]
  },
  {
   "cell_type": "code",
   "execution_count": 13,
   "metadata": {},
   "outputs": [
    {
     "data": {
      "text/html": [
       "<div>\n",
       "<style scoped>\n",
       "    .dataframe tbody tr th:only-of-type {\n",
       "        vertical-align: middle;\n",
       "    }\n",
       "\n",
       "    .dataframe tbody tr th {\n",
       "        vertical-align: top;\n",
       "    }\n",
       "\n",
       "    .dataframe thead th {\n",
       "        text-align: right;\n",
       "    }\n",
       "</style>\n",
       "<table border=\"1\" class=\"dataframe\">\n",
       "  <thead>\n",
       "    <tr style=\"text-align: right;\">\n",
       "      <th></th>\n",
       "      <th>label</th>\n",
       "      <th>domain</th>\n",
       "      <th>root</th>\n",
       "      <th>rootclass</th>\n",
       "      <th>len</th>\n",
       "    </tr>\n",
       "  </thead>\n",
       "  <tbody>\n",
       "    <tr>\n",
       "      <th>0</th>\n",
       "      <td>0</td>\n",
       "      <td>facebook.com</td>\n",
       "      <td>com</td>\n",
       "      <td>0</td>\n",
       "      <td>12</td>\n",
       "    </tr>\n",
       "    <tr>\n",
       "      <th>1</th>\n",
       "      <td>0</td>\n",
       "      <td>youtube.com</td>\n",
       "      <td>com</td>\n",
       "      <td>0</td>\n",
       "      <td>11</td>\n",
       "    </tr>\n",
       "    <tr>\n",
       "      <th>2</th>\n",
       "      <td>0</td>\n",
       "      <td>yahoo.com</td>\n",
       "      <td>com</td>\n",
       "      <td>0</td>\n",
       "      <td>9</td>\n",
       "    </tr>\n",
       "    <tr>\n",
       "      <th>3</th>\n",
       "      <td>0</td>\n",
       "      <td>baidu.com</td>\n",
       "      <td>com</td>\n",
       "      <td>0</td>\n",
       "      <td>9</td>\n",
       "    </tr>\n",
       "    <tr>\n",
       "      <th>4</th>\n",
       "      <td>0</td>\n",
       "      <td>wikipedia.org</td>\n",
       "      <td>org</td>\n",
       "      <td>0</td>\n",
       "      <td>13</td>\n",
       "    </tr>\n",
       "    <tr>\n",
       "      <th>5</th>\n",
       "      <td>0</td>\n",
       "      <td>qq.com</td>\n",
       "      <td>com</td>\n",
       "      <td>0</td>\n",
       "      <td>6</td>\n",
       "    </tr>\n",
       "    <tr>\n",
       "      <th>6</th>\n",
       "      <td>0</td>\n",
       "      <td>linkedin.com</td>\n",
       "      <td>com</td>\n",
       "      <td>0</td>\n",
       "      <td>12</td>\n",
       "    </tr>\n",
       "    <tr>\n",
       "      <th>7</th>\n",
       "      <td>0</td>\n",
       "      <td>taobao.com</td>\n",
       "      <td>com</td>\n",
       "      <td>0</td>\n",
       "      <td>10</td>\n",
       "    </tr>\n",
       "    <tr>\n",
       "      <th>8</th>\n",
       "      <td>0</td>\n",
       "      <td>twitter.com</td>\n",
       "      <td>com</td>\n",
       "      <td>0</td>\n",
       "      <td>11</td>\n",
       "    </tr>\n",
       "    <tr>\n",
       "      <th>9</th>\n",
       "      <td>0</td>\n",
       "      <td>live.com</td>\n",
       "      <td>com</td>\n",
       "      <td>0</td>\n",
       "      <td>8</td>\n",
       "    </tr>\n",
       "  </tbody>\n",
       "</table>\n",
       "</div>"
      ],
      "text/plain": [
       "  label         domain root  rootclass  len\n",
       "0     0   facebook.com  com          0   12\n",
       "1     0    youtube.com  com          0   11\n",
       "2     0      yahoo.com  com          0    9\n",
       "3     0      baidu.com  com          0    9\n",
       "4     0  wikipedia.org  org          0   13\n",
       "5     0         qq.com  com          0    6\n",
       "6     0   linkedin.com  com          0   12\n",
       "7     0     taobao.com  com          0   10\n",
       "8     0    twitter.com  com          0   11\n",
       "9     0       live.com  com          0    8"
      ]
     },
     "execution_count": 13,
     "metadata": {},
     "output_type": "execute_result"
    }
   ],
   "source": [
    "train_data.head(10)"
   ]
  },
  {
   "cell_type": "code",
   "execution_count": 14,
   "metadata": {},
   "outputs": [
    {
     "data": {
      "text/html": [
       "<div>\n",
       "<style scoped>\n",
       "    .dataframe tbody tr th:only-of-type {\n",
       "        vertical-align: middle;\n",
       "    }\n",
       "\n",
       "    .dataframe tbody tr th {\n",
       "        vertical-align: top;\n",
       "    }\n",
       "\n",
       "    .dataframe thead th {\n",
       "        text-align: right;\n",
       "    }\n",
       "</style>\n",
       "<table border=\"1\" class=\"dataframe\">\n",
       "  <thead>\n",
       "    <tr style=\"text-align: right;\">\n",
       "      <th></th>\n",
       "      <th>label</th>\n",
       "      <th>domain</th>\n",
       "      <th>root</th>\n",
       "      <th>rootclass</th>\n",
       "      <th>len</th>\n",
       "    </tr>\n",
       "  </thead>\n",
       "  <tbody>\n",
       "    <tr>\n",
       "      <th>249989</th>\n",
       "      <td>1</td>\n",
       "      <td>zzzewwhfc.com.hn</td>\n",
       "      <td>hn</td>\n",
       "      <td>1</td>\n",
       "      <td>16</td>\n",
       "    </tr>\n",
       "    <tr>\n",
       "      <th>249990</th>\n",
       "      <td>1</td>\n",
       "      <td>zzzgx.co.vi</td>\n",
       "      <td>vi</td>\n",
       "      <td>1</td>\n",
       "      <td>11</td>\n",
       "    </tr>\n",
       "    <tr>\n",
       "      <th>249991</th>\n",
       "      <td>1</td>\n",
       "      <td>zzzjxt.as</td>\n",
       "      <td>as</td>\n",
       "      <td>1</td>\n",
       "      <td>9</td>\n",
       "    </tr>\n",
       "    <tr>\n",
       "      <th>249992</th>\n",
       "      <td>1</td>\n",
       "      <td>zzzkf.tc</td>\n",
       "      <td>tc</td>\n",
       "      <td>1</td>\n",
       "      <td>8</td>\n",
       "    </tr>\n",
       "    <tr>\n",
       "      <th>249993</th>\n",
       "      <td>1</td>\n",
       "      <td>zzzlxtam.co.kr</td>\n",
       "      <td>kr</td>\n",
       "      <td>1</td>\n",
       "      <td>14</td>\n",
       "    </tr>\n",
       "    <tr>\n",
       "      <th>249994</th>\n",
       "      <td>1</td>\n",
       "      <td>zzznnx.ir</td>\n",
       "      <td>ir</td>\n",
       "      <td>1</td>\n",
       "      <td>9</td>\n",
       "    </tr>\n",
       "    <tr>\n",
       "      <th>249995</th>\n",
       "      <td>1</td>\n",
       "      <td>zzztqrq.ht</td>\n",
       "      <td>ht</td>\n",
       "      <td>1</td>\n",
       "      <td>10</td>\n",
       "    </tr>\n",
       "    <tr>\n",
       "      <th>249996</th>\n",
       "      <td>1</td>\n",
       "      <td>zzzvr.su</td>\n",
       "      <td>su</td>\n",
       "      <td>1</td>\n",
       "      <td>8</td>\n",
       "    </tr>\n",
       "    <tr>\n",
       "      <th>249997</th>\n",
       "      <td>1</td>\n",
       "      <td>zzzwtef.com.pa</td>\n",
       "      <td>pa</td>\n",
       "      <td>1</td>\n",
       "      <td>14</td>\n",
       "    </tr>\n",
       "    <tr>\n",
       "      <th>249998</th>\n",
       "      <td>1</td>\n",
       "      <td>zzzzuvfbt.co.uk</td>\n",
       "      <td>uk</td>\n",
       "      <td>1</td>\n",
       "      <td>15</td>\n",
       "    </tr>\n",
       "  </tbody>\n",
       "</table>\n",
       "</div>"
      ],
      "text/plain": [
       "       label            domain root  rootclass  len\n",
       "249989     1  zzzewwhfc.com.hn   hn          1   16\n",
       "249990     1       zzzgx.co.vi   vi          1   11\n",
       "249991     1         zzzjxt.as   as          1    9\n",
       "249992     1          zzzkf.tc   tc          1    8\n",
       "249993     1    zzzlxtam.co.kr   kr          1   14\n",
       "249994     1         zzznnx.ir   ir          1    9\n",
       "249995     1        zzztqrq.ht   ht          1   10\n",
       "249996     1          zzzvr.su   su          1    8\n",
       "249997     1    zzzwtef.com.pa   pa          1   14\n",
       "249998     1   zzzzuvfbt.co.uk   uk          1   15"
      ]
     },
     "execution_count": 14,
     "metadata": {},
     "output_type": "execute_result"
    }
   ],
   "source": [
    "train_data.tail(10)"
   ]
  },
  {
   "cell_type": "code",
   "execution_count": 15,
   "metadata": {},
   "outputs": [
    {
     "data": {
      "text/plain": [
       "<matplotlib.axes._subplots.AxesSubplot at 0x2dc5434fa20>"
      ]
     },
     "execution_count": 15,
     "metadata": {},
     "output_type": "execute_result"
    },
    {
     "data": {
      "image/png": "[encoded data removed]",
      "text/plain": [
       "<Figure size 432x288 with 1 Axes>"
      ]
     },
     "metadata": {
      "needs_background": "light"
     },
     "output_type": "display_data"
    }
   ],
   "source": [
    "sns.countplot(x='len', hue='label',data=train_data)"
   ]
  },
  {
   "cell_type": "markdown",
   "metadata": {},
   "source": [
    "我们可以发现非正常域名的长度分布更加集中，而正常域名分布更像是一个正态分布，ok,把他作为一个特征\n",
    "\n",
    "下一步要想一想还有什么特征\n",
    "信息学中有一个很重要的概念，叫熵（虽然它最早出自化学和物理学2333），在信息学中，它用于衡量一个系统的混乱程度，简而言之，对于一个随机字符串，他就代表着字符串中字母出现以及分布的混乱程度，打个比方:\n",
    "str1 = 'aaabbb'\n",
    "str2 = 'asdfgh'\n",
    "两者长度相同，可是看上去str1比str2更整齐，更有规律不少，而str2更像是用脸滚键盘滚出来的，熵主要用于判断器混乱程度，不同于我们用肉眼判断，她有一个著名的公式，叫香农熵公式:\n",
    "\n",
    "G = -ΣLog(P(Xi)) * P(Xi)\n",
    "\n",
    "其中P(Xi)是字符出现的概率 比如 str1中 P('a') = 3 / (3+3) = 0.5  str2中 P('a') = 1 / (6) = 0.166667 "
   ]
  },
  {
   "cell_type": "code",
   "execution_count": 16,
   "metadata": {},
   "outputs": [],
   "source": [
    "train_data['shan'] = train_data['domain'].map(lambda  x:getshan(x)).astype(float)"
   ]
  },
  {
   "cell_type": "code",
   "execution_count": 17,
   "metadata": {},
   "outputs": [
    {
     "data": {
      "text/html": [
       "<div>\n",
       "<style scoped>\n",
       "    .dataframe tbody tr th:only-of-type {\n",
       "        vertical-align: middle;\n",
       "    }\n",
       "\n",
       "    .dataframe tbody tr th {\n",
       "        vertical-align: top;\n",
       "    }\n",
       "\n",
       "    .dataframe thead th {\n",
       "        text-align: right;\n",
       "    }\n",
       "</style>\n",
       "<table border=\"1\" class=\"dataframe\">\n",
       "  <thead>\n",
       "    <tr style=\"text-align: right;\">\n",
       "      <th></th>\n",
       "      <th>label</th>\n",
       "      <th>domain</th>\n",
       "      <th>root</th>\n",
       "      <th>rootclass</th>\n",
       "      <th>len</th>\n",
       "      <th>shan</th>\n",
       "    </tr>\n",
       "  </thead>\n",
       "  <tbody>\n",
       "    <tr>\n",
       "      <th>0</th>\n",
       "      <td>0</td>\n",
       "      <td>facebook.com</td>\n",
       "      <td>com</td>\n",
       "      <td>0</td>\n",
       "      <td>12</td>\n",
       "      <td>3.022055</td>\n",
       "    </tr>\n",
       "    <tr>\n",
       "      <th>1</th>\n",
       "      <td>0</td>\n",
       "      <td>youtube.com</td>\n",
       "      <td>com</td>\n",
       "      <td>0</td>\n",
       "      <td>11</td>\n",
       "      <td>3.095795</td>\n",
       "    </tr>\n",
       "    <tr>\n",
       "      <th>2</th>\n",
       "      <td>0</td>\n",
       "      <td>yahoo.com</td>\n",
       "      <td>com</td>\n",
       "      <td>0</td>\n",
       "      <td>9</td>\n",
       "      <td>2.641604</td>\n",
       "    </tr>\n",
       "    <tr>\n",
       "      <th>3</th>\n",
       "      <td>0</td>\n",
       "      <td>baidu.com</td>\n",
       "      <td>com</td>\n",
       "      <td>0</td>\n",
       "      <td>9</td>\n",
       "      <td>3.169925</td>\n",
       "    </tr>\n",
       "    <tr>\n",
       "      <th>4</th>\n",
       "      <td>0</td>\n",
       "      <td>wikipedia.org</td>\n",
       "      <td>org</td>\n",
       "      <td>0</td>\n",
       "      <td>13</td>\n",
       "      <td>3.334679</td>\n",
       "    </tr>\n",
       "  </tbody>\n",
       "</table>\n",
       "</div>"
      ],
      "text/plain": [
       "  label         domain root  rootclass  len      shan\n",
       "0     0   facebook.com  com          0   12  3.022055\n",
       "1     0    youtube.com  com          0   11  3.095795\n",
       "2     0      yahoo.com  com          0    9  2.641604\n",
       "3     0      baidu.com  com          0    9  3.169925\n",
       "4     0  wikipedia.org  org          0   13  3.334679"
      ]
     },
     "execution_count": 17,
     "metadata": {},
     "output_type": "execute_result"
    }
   ],
   "source": [
    "train_data.head(5)"
   ]
  },
  {
   "cell_type": "code",
   "execution_count": 18,
   "metadata": {},
   "outputs": [
    {
     "data": {
      "text/html": [
       "<div>\n",
       "<style scoped>\n",
       "    .dataframe tbody tr th:only-of-type {\n",
       "        vertical-align: middle;\n",
       "    }\n",
       "\n",
       "    .dataframe tbody tr th {\n",
       "        vertical-align: top;\n",
       "    }\n",
       "\n",
       "    .dataframe thead th {\n",
       "        text-align: right;\n",
       "    }\n",
       "</style>\n",
       "<table border=\"1\" class=\"dataframe\">\n",
       "  <thead>\n",
       "    <tr style=\"text-align: right;\">\n",
       "      <th></th>\n",
       "      <th>label</th>\n",
       "      <th>domain</th>\n",
       "      <th>root</th>\n",
       "      <th>rootclass</th>\n",
       "      <th>len</th>\n",
       "      <th>shan</th>\n",
       "    </tr>\n",
       "  </thead>\n",
       "  <tbody>\n",
       "    <tr>\n",
       "      <th>249994</th>\n",
       "      <td>1</td>\n",
       "      <td>zzznnx.ir</td>\n",
       "      <td>ir</td>\n",
       "      <td>1</td>\n",
       "      <td>9</td>\n",
       "      <td>2.419382</td>\n",
       "    </tr>\n",
       "    <tr>\n",
       "      <th>249995</th>\n",
       "      <td>1</td>\n",
       "      <td>zzztqrq.ht</td>\n",
       "      <td>ht</td>\n",
       "      <td>1</td>\n",
       "      <td>10</td>\n",
       "      <td>2.446439</td>\n",
       "    </tr>\n",
       "    <tr>\n",
       "      <th>249996</th>\n",
       "      <td>1</td>\n",
       "      <td>zzzvr.su</td>\n",
       "      <td>su</td>\n",
       "      <td>1</td>\n",
       "      <td>8</td>\n",
       "      <td>2.405639</td>\n",
       "    </tr>\n",
       "    <tr>\n",
       "      <th>249997</th>\n",
       "      <td>1</td>\n",
       "      <td>zzzwtef.com.pa</td>\n",
       "      <td>pa</td>\n",
       "      <td>1</td>\n",
       "      <td>14</td>\n",
       "      <td>3.324863</td>\n",
       "    </tr>\n",
       "    <tr>\n",
       "      <th>249998</th>\n",
       "      <td>1</td>\n",
       "      <td>zzzzuvfbt.co.uk</td>\n",
       "      <td>uk</td>\n",
       "      <td>1</td>\n",
       "      <td>15</td>\n",
       "      <td>3.106891</td>\n",
       "    </tr>\n",
       "  </tbody>\n",
       "</table>\n",
       "</div>"
      ],
      "text/plain": [
       "       label           domain root  rootclass  len      shan\n",
       "249994     1        zzznnx.ir   ir          1    9  2.419382\n",
       "249995     1       zzztqrq.ht   ht          1   10  2.446439\n",
       "249996     1         zzzvr.su   su          1    8  2.405639\n",
       "249997     1   zzzwtef.com.pa   pa          1   14  3.324863\n",
       "249998     1  zzzzuvfbt.co.uk   uk          1   15  3.106891"
      ]
     },
     "execution_count": 18,
     "metadata": {},
     "output_type": "execute_result"
    }
   ],
   "source": [
    "train_data.tail(5)"
   ]
  },
  {
   "cell_type": "markdown",
   "metadata": {},
   "source": [
    "sns.pointplot(x='label', y='shan',data=train_data)"
   ]
  },
  {
   "cell_type": "code",
   "execution_count": 19,
   "metadata": {},
   "outputs": [
    {
     "data": {
      "text/plain": [
       "<matplotlib.axes._subplots.AxesSubplot at 0x2dc544b65c0>"
      ]
     },
     "execution_count": 19,
     "metadata": {},
     "output_type": "execute_result"
    },
    {
     "data": {
      "image/png": "[encoded data removed]",
      "text/plain": [
       "<Figure size 432x288 with 1 Axes>"
      ]
     },
     "metadata": {
      "needs_background": "light"
     },
     "output_type": "display_data"
    }
   ],
   "source": [
    "sns.pointplot(x='label', y='shan',data=train_data)"
   ]
  },
  {
   "cell_type": "markdown",
   "metadata": {},
   "source": [
    "接下来还有什么参数呢，plunter的原文从语言学提供了提供了一些新的思路，比如说 好读\n",
    "\n",
    "没错，根据常规来说一个正常的网站一定会希望他的网站域名是读起来朗朗上口并且好记的，根据语言学和音韵学来说，貌似在字符中插入一定的元音字母会让一个字符串卡萨诺航区或者读起来更像是一个单词一样，元音是啥 a e i o u ，比如说 baidu 五个字母中有3个都是元音 再比如说 google 六个字母中有3个元音，比如说zzzzuvfbt  9个单词中只有一个元音...\n",
    "\n",
    "看上去这会是一个好的特征 我们来看看！\n",
    "以下一行代码用于计算元音字母所占的比例"
   ]
  },
  {
   "cell_type": "code",
   "execution_count": 20,
   "metadata": {},
   "outputs": [],
   "source": [
    "train_data['yuan_ratio'] = train_data['domain'].map(lambda x:getyuanyin(x)).astype(float)"
   ]
  },
  {
   "cell_type": "code",
   "execution_count": 21,
   "metadata": {},
   "outputs": [
    {
     "data": {
      "text/html": [
       "<div>\n",
       "<style scoped>\n",
       "    .dataframe tbody tr th:only-of-type {\n",
       "        vertical-align: middle;\n",
       "    }\n",
       "\n",
       "    .dataframe tbody tr th {\n",
       "        vertical-align: top;\n",
       "    }\n",
       "\n",
       "    .dataframe thead th {\n",
       "        text-align: right;\n",
       "    }\n",
       "</style>\n",
       "<table border=\"1\" class=\"dataframe\">\n",
       "  <thead>\n",
       "    <tr style=\"text-align: right;\">\n",
       "      <th></th>\n",
       "      <th>label</th>\n",
       "      <th>domain</th>\n",
       "      <th>root</th>\n",
       "      <th>rootclass</th>\n",
       "      <th>len</th>\n",
       "      <th>shan</th>\n",
       "      <th>yuan_ratio</th>\n",
       "    </tr>\n",
       "  </thead>\n",
       "  <tbody>\n",
       "    <tr>\n",
       "      <th>0</th>\n",
       "      <td>0</td>\n",
       "      <td>facebook.com</td>\n",
       "      <td>com</td>\n",
       "      <td>0</td>\n",
       "      <td>12</td>\n",
       "      <td>3.022055</td>\n",
       "      <td>0.454545</td>\n",
       "    </tr>\n",
       "    <tr>\n",
       "      <th>1</th>\n",
       "      <td>0</td>\n",
       "      <td>youtube.com</td>\n",
       "      <td>com</td>\n",
       "      <td>0</td>\n",
       "      <td>11</td>\n",
       "      <td>3.095795</td>\n",
       "      <td>0.500000</td>\n",
       "    </tr>\n",
       "    <tr>\n",
       "      <th>2</th>\n",
       "      <td>0</td>\n",
       "      <td>yahoo.com</td>\n",
       "      <td>com</td>\n",
       "      <td>0</td>\n",
       "      <td>9</td>\n",
       "      <td>2.641604</td>\n",
       "      <td>0.500000</td>\n",
       "    </tr>\n",
       "    <tr>\n",
       "      <th>3</th>\n",
       "      <td>0</td>\n",
       "      <td>baidu.com</td>\n",
       "      <td>com</td>\n",
       "      <td>0</td>\n",
       "      <td>9</td>\n",
       "      <td>3.169925</td>\n",
       "      <td>0.500000</td>\n",
       "    </tr>\n",
       "    <tr>\n",
       "      <th>4</th>\n",
       "      <td>0</td>\n",
       "      <td>wikipedia.org</td>\n",
       "      <td>org</td>\n",
       "      <td>0</td>\n",
       "      <td>13</td>\n",
       "      <td>3.334679</td>\n",
       "      <td>0.500000</td>\n",
       "    </tr>\n",
       "  </tbody>\n",
       "</table>\n",
       "</div>"
      ],
      "text/plain": [
       "  label         domain root  rootclass  len      shan  yuan_ratio\n",
       "0     0   facebook.com  com          0   12  3.022055    0.454545\n",
       "1     0    youtube.com  com          0   11  3.095795    0.500000\n",
       "2     0      yahoo.com  com          0    9  2.641604    0.500000\n",
       "3     0      baidu.com  com          0    9  3.169925    0.500000\n",
       "4     0  wikipedia.org  org          0   13  3.334679    0.500000"
      ]
     },
     "execution_count": 21,
     "metadata": {},
     "output_type": "execute_result"
    }
   ],
   "source": [
    "train_data.head(5)"
   ]
  },
  {
   "cell_type": "code",
   "execution_count": 22,
   "metadata": {},
   "outputs": [
    {
     "data": {
      "text/html": [
       "<div>\n",
       "<style scoped>\n",
       "    .dataframe tbody tr th:only-of-type {\n",
       "        vertical-align: middle;\n",
       "    }\n",
       "\n",
       "    .dataframe tbody tr th {\n",
       "        vertical-align: top;\n",
       "    }\n",
       "\n",
       "    .dataframe thead th {\n",
       "        text-align: right;\n",
       "    }\n",
       "</style>\n",
       "<table border=\"1\" class=\"dataframe\">\n",
       "  <thead>\n",
       "    <tr style=\"text-align: right;\">\n",
       "      <th></th>\n",
       "      <th>label</th>\n",
       "      <th>domain</th>\n",
       "      <th>root</th>\n",
       "      <th>rootclass</th>\n",
       "      <th>len</th>\n",
       "      <th>shan</th>\n",
       "      <th>yuan_ratio</th>\n",
       "    </tr>\n",
       "  </thead>\n",
       "  <tbody>\n",
       "    <tr>\n",
       "      <th>249994</th>\n",
       "      <td>1</td>\n",
       "      <td>zzznnx.ir</td>\n",
       "      <td>ir</td>\n",
       "      <td>1</td>\n",
       "      <td>9</td>\n",
       "      <td>2.419382</td>\n",
       "      <td>0.125000</td>\n",
       "    </tr>\n",
       "    <tr>\n",
       "      <th>249995</th>\n",
       "      <td>1</td>\n",
       "      <td>zzztqrq.ht</td>\n",
       "      <td>ht</td>\n",
       "      <td>1</td>\n",
       "      <td>10</td>\n",
       "      <td>2.446439</td>\n",
       "      <td>0.000000</td>\n",
       "    </tr>\n",
       "    <tr>\n",
       "      <th>249996</th>\n",
       "      <td>1</td>\n",
       "      <td>zzzvr.su</td>\n",
       "      <td>su</td>\n",
       "      <td>1</td>\n",
       "      <td>8</td>\n",
       "      <td>2.405639</td>\n",
       "      <td>0.142857</td>\n",
       "    </tr>\n",
       "    <tr>\n",
       "      <th>249997</th>\n",
       "      <td>1</td>\n",
       "      <td>zzzwtef.com.pa</td>\n",
       "      <td>pa</td>\n",
       "      <td>1</td>\n",
       "      <td>14</td>\n",
       "      <td>3.324863</td>\n",
       "      <td>0.250000</td>\n",
       "    </tr>\n",
       "    <tr>\n",
       "      <th>249998</th>\n",
       "      <td>1</td>\n",
       "      <td>zzzzuvfbt.co.uk</td>\n",
       "      <td>uk</td>\n",
       "      <td>1</td>\n",
       "      <td>15</td>\n",
       "      <td>3.106891</td>\n",
       "      <td>0.230769</td>\n",
       "    </tr>\n",
       "  </tbody>\n",
       "</table>\n",
       "</div>"
      ],
      "text/plain": [
       "       label           domain root  rootclass  len      shan  yuan_ratio\n",
       "249994     1        zzznnx.ir   ir          1    9  2.419382    0.125000\n",
       "249995     1       zzztqrq.ht   ht          1   10  2.446439    0.000000\n",
       "249996     1         zzzvr.su   su          1    8  2.405639    0.142857\n",
       "249997     1   zzzwtef.com.pa   pa          1   14  3.324863    0.250000\n",
       "249998     1  zzzzuvfbt.co.uk   uk          1   15  3.106891    0.230769"
      ]
     },
     "execution_count": 22,
     "metadata": {},
     "output_type": "execute_result"
    }
   ],
   "source": [
    "train_data.tail(5)"
   ]
  },
  {
   "cell_type": "markdown",
   "metadata": {},
   "source": [
    "结果显而易见 正常域名中元音所占的比率远远大于非正常域名！\n",
    "\n",
    "OK，暂时想不到其他的什么特征了，就用这几个建立一个demo版本吧\n",
    "\n",
    "特征有了，下一步干啥呢\n",
    "\n",
    "归一化咯，所谓归一化，就是不数据的范围放缩至一个相同的范围以避免数据跨度或量级的巨大差别而导致训练上的困难或者结果上的偏差\n",
    "sklearn给出了丰富强大的接口来帮你"
   ]
  },
  {
   "cell_type": "code",
   "execution_count": 23,
   "metadata": {},
   "outputs": [
    {
     "name": "stderr",
     "output_type": "stream",
     "text": [
      "c:\\program files\\python36\\lib\\site-packages\\sklearn\\utils\\validation.py:475: DataConversionWarning: Data with input dtype int32 was converted to float64 by StandardScaler.\n",
      "  warnings.warn(msg, DataConversionWarning)\n"
     ]
    }
   ],
   "source": [
    "scaler = preprocessing.StandardScaler()\n",
    "len_scale_param = scaler.fit(train_data['len'].values.reshape(-1,1))\n",
    "train_data['len_scaled'] = scaler.fit_transform(train_data['len'].values.reshape(-1,1),len_scale_param)\n",
    "shan_scale_param = scaler.fit(train_data['shan'].values.reshape(-1,1))\n",
    "train_data['shan_sclaed'] = scaler.fit_transform(train_data['shan'].values.reshape(-1,1),shan_scale_param)"
   ]
  },
  {
   "cell_type": "markdown",
   "metadata": {},
   "source": [
    "ok 现在看一下我们在经过特征工程和数据预处理以后的数据长啥样吧"
   ]
  },
  {
   "cell_type": "code",
   "execution_count": 24,
   "metadata": {},
   "outputs": [
    {
     "data": {
      "text/html": [
       "<div>\n",
       "<style scoped>\n",
       "    .dataframe tbody tr th:only-of-type {\n",
       "        vertical-align: middle;\n",
       "    }\n",
       "\n",
       "    .dataframe tbody tr th {\n",
       "        vertical-align: top;\n",
       "    }\n",
       "\n",
       "    .dataframe thead th {\n",
       "        text-align: right;\n",
       "    }\n",
       "</style>\n",
       "<table border=\"1\" class=\"dataframe\">\n",
       "  <thead>\n",
       "    <tr style=\"text-align: right;\">\n",
       "      <th></th>\n",
       "      <th>label</th>\n",
       "      <th>domain</th>\n",
       "      <th>root</th>\n",
       "      <th>rootclass</th>\n",
       "      <th>len</th>\n",
       "      <th>shan</th>\n",
       "      <th>yuan_ratio</th>\n",
       "      <th>len_scaled</th>\n",
       "      <th>shan_sclaed</th>\n",
       "    </tr>\n",
       "  </thead>\n",
       "  <tbody>\n",
       "    <tr>\n",
       "      <th>0</th>\n",
       "      <td>0</td>\n",
       "      <td>facebook.com</td>\n",
       "      <td>com</td>\n",
       "      <td>0</td>\n",
       "      <td>12</td>\n",
       "      <td>3.022055</td>\n",
       "      <td>0.454545</td>\n",
       "      <td>0.043608</td>\n",
       "      <td>-0.341005</td>\n",
       "    </tr>\n",
       "    <tr>\n",
       "      <th>1</th>\n",
       "      <td>0</td>\n",
       "      <td>youtube.com</td>\n",
       "      <td>com</td>\n",
       "      <td>0</td>\n",
       "      <td>11</td>\n",
       "      <td>3.095795</td>\n",
       "      <td>0.500000</td>\n",
       "      <td>-0.237871</td>\n",
       "      <td>-0.113708</td>\n",
       "    </tr>\n",
       "    <tr>\n",
       "      <th>2</th>\n",
       "      <td>0</td>\n",
       "      <td>yahoo.com</td>\n",
       "      <td>com</td>\n",
       "      <td>0</td>\n",
       "      <td>9</td>\n",
       "      <td>2.641604</td>\n",
       "      <td>0.500000</td>\n",
       "      <td>-0.800828</td>\n",
       "      <td>-1.513712</td>\n",
       "    </tr>\n",
       "    <tr>\n",
       "      <th>3</th>\n",
       "      <td>0</td>\n",
       "      <td>baidu.com</td>\n",
       "      <td>com</td>\n",
       "      <td>0</td>\n",
       "      <td>9</td>\n",
       "      <td>3.169925</td>\n",
       "      <td>0.500000</td>\n",
       "      <td>-0.800828</td>\n",
       "      <td>0.114791</td>\n",
       "    </tr>\n",
       "    <tr>\n",
       "      <th>4</th>\n",
       "      <td>0</td>\n",
       "      <td>wikipedia.org</td>\n",
       "      <td>org</td>\n",
       "      <td>0</td>\n",
       "      <td>13</td>\n",
       "      <td>3.334679</td>\n",
       "      <td>0.500000</td>\n",
       "      <td>0.325087</td>\n",
       "      <td>0.622631</td>\n",
       "    </tr>\n",
       "  </tbody>\n",
       "</table>\n",
       "</div>"
      ],
      "text/plain": [
       "  label         domain root  rootclass  len      shan  yuan_ratio  len_scaled  \\\n",
       "0     0   facebook.com  com          0   12  3.022055    0.454545    0.043608   \n",
       "1     0    youtube.com  com          0   11  3.095795    0.500000   -0.237871   \n",
       "2     0      yahoo.com  com          0    9  2.641604    0.500000   -0.800828   \n",
       "3     0      baidu.com  com          0    9  3.169925    0.500000   -0.800828   \n",
       "4     0  wikipedia.org  org          0   13  3.334679    0.500000    0.325087   \n",
       "\n",
       "   shan_sclaed  \n",
       "0    -0.341005  \n",
       "1    -0.113708  \n",
       "2    -1.513712  \n",
       "3     0.114791  \n",
       "4     0.622631  "
      ]
     },
     "execution_count": 24,
     "metadata": {},
     "output_type": "execute_result"
    }
   ],
   "source": [
    "train_data.head(5)"
   ]
  },
  {
   "cell_type": "markdown",
   "metadata": {},
   "source": [
    "看上去是一些靠谱的特征了，那么最后一步，把我们需要的特征都拿出来，带入模型训练\n",
    "\n",
    "首先，我们需要的列：rootclass,yuan_ratio,len_scaled,shan_scaled是我们所需要的，把他们拿出来，转化成numpy矩阵的格式"
   ]
  },
  {
   "cell_type": "code",
   "execution_count": 25,
   "metadata": {},
   "outputs": [],
   "source": [
    "train_pre = train_data.filter(regex = 'label|yuan_ratio|len_scaled|shan_scale_param|rootclass')\n",
    "train_pre = shuffle(train_pre)"
   ]
  },
  {
   "cell_type": "markdown",
   "metadata": {},
   "source": [
    "shuffle()是一个很好用的函数，他将帮你把你的数据集打乱顺序，避免相同label的数据都堆积在一起\n",
    "\n",
    "好啦！接下来，我们把数据转化成矩阵，并且切分成训练集和测试集（正常来说还应该有一个数据集叫做验证集，本例只作简单演示，就去掉啦）"
   ]
  },
  {
   "cell_type": "code",
   "execution_count": 26,
   "metadata": {},
   "outputs": [
    {
     "name": "stderr",
     "output_type": "stream",
     "text": [
      "C:\\Users\\aldin\\AppData\\Roaming\\Python\\Python36\\site-packages\\ipykernel_launcher.py:1: FutureWarning: Method .as_matrix will be removed in a future version. Use .values instead.\n",
      "  \"\"\"Entry point for launching an IPython kernel.\n"
     ]
    }
   ],
   "source": [
    "train_pre =train_pre.as_matrix()\n",
    "y_train = train_pre[0:200000,0]\n",
    "x_train = train_pre[0:200000,1:]\n",
    "y_test = train_pre[200000:201000,0]\n",
    "x_test = train_pre[200000:201000,1:]"
   ]
  },
  {
   "cell_type": "markdown",
   "metadata": {},
   "source": [
    "OK  数据处理的过程到这里就已经全部结束了，接下来要做的，就是选择一个合适的模型进行训练了\n",
    "\n",
    "本次我们选择经典的SVM函数，并选择RBF作为核方法"
   ]
  },
  {
   "cell_type": "code",
   "execution_count": 28,
   "metadata": {},
   "outputs": [
    {
     "name": "stdout",
     "output_type": "stream",
     "text": [
      "training finished\n"
     ]
    }
   ],
   "source": [
    "model = SVC(kernel='rbf',C=0.4).fit(x_train,y_train)\n",
    "print ('training finished')"
   ]
  },
  {
   "cell_type": "code",
   "execution_count": 30,
   "metadata": {},
   "outputs": [
    {
     "name": "stdout",
     "output_type": "stream",
     "text": [
      "[0.88059701 0.87       0.865      0.9        0.89447236]\n"
     ]
    }
   ],
   "source": [
    "pre = cross_validation.cross_val_score(model,x_test,y_test,cv = 5)\n",
    "print (pre)"
   ]
  },
  {
   "cell_type": "markdown",
   "metadata": {},
   "source": [
    "使用测试机集做了一哈验证，平均准确率在88%上下，emmmm 效果差强人意，毕竟只是一个小样例，要求不能太高哈23333\n",
    "\n",
    "本篇over 如果想了解关机器学习算法  可以参考 李航博士的 《统计学习方法》 和周志华教授的 《机器学习》\n",
    "\n",
    "下一篇将会尝试使用深度学习的方法完成这一任务并大大提升准确率"
   ]
  },
  {
   "cell_type": "code",
   "execution_count": null,
   "metadata": {},
   "outputs": [],
   "source": []
  }
 ],
 "metadata": {
  "kernelspec": {
   "display_name": "Python 3",
   "language": "python",
   "name": "python3"
  },
  "language_info": {
   "codemirror_mode": {
    "name": "ipython",
    "version": 3
   },
   "file_extension": ".py",
   "mimetype": "text/x-python",
   "name": "python",
   "nbconvert_exporter": "python",
   "pygments_lexer": "ipython3",
   "version": "3.6.6"
  }
 },
 "nbformat": 4,
 "nbformat_minor": 2
}
